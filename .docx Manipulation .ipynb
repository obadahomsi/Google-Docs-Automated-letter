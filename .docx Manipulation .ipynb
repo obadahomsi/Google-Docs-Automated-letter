{
 "cells": [
  {
   "cell_type": "code",
   "execution_count": null,
   "metadata": {},
   "outputs": [],
   "source": [
    "import re\n",
    "from docx import Document\n",
    "import pandas as pd\n",
    " \n",
    "def docx_replace_regex(doc_obj, regex , replace):\n",
    " \n",
    "    for p in doc_obj.paragraphs:\n",
    "        if regex.search(p.text):\n",
    "            inline = p.runs\n",
    "            # Loop added to work with runs (strings with same style)\n",
    "            for i in range(len(inline)):\n",
    "                if regex.search(inline[i].text):\n",
    "                    text = regex.sub(replace, inline[i].text)\n",
    "                    inline[i].text = text\n",
    " \n",
    "    for table in doc_obj.tables:\n",
    "        for row in table.rows:\n",
    "            for cell in row.cells:\n",
    "                docx_replace_regex(cell, regex , replace)\n",
    " \n"
   ]
  },
  {
   "cell_type": "code",
   "execution_count": null,
   "metadata": {},
   "outputs": [],
   "source": [
    "def make_drafts(regulized_table):\n",
    "        df = pd.read_csv(regulized_table)\n",
    "        company_names = df['company names']\n",
    "        company_emails = df['email']\n",
    "        save_names = []\n",
    "        save_emails = []\n",
    "        save_emails_last = []\n",
    "        emailed_or_not = []\n",
    "        for i in company_names: \n",
    "            save_names.append(str(i))\n",
    "        for i in company_emails:\n",
    "            save_emails.append(str(i))\n",
    "\n",
    "        for i in save_emails:\n",
    "            if ((i=='nan') or (' ' in i)):\n",
    "                save_emails_last.append('INSERT_EMAIL')\n",
    "                emailed_or_not.append(0)\n",
    "            else:\n",
    "                save_emails_last.append(i)\n",
    "                emailed_or_not.append(1)\n",
    "\n",
    "        for i in range(len(emailed_or_not)):\n",
    "            regex1 = re.compile(r\"COMPANYNAME\")\n",
    "            replace1 = r\"\" + save_names[i]\n",
    "            filename = \"sampledraft10.docx\"\n",
    "            doc = Document(filename)\n",
    "            for l in range(5):\n",
    "                docx_replace_regex(doc, regex1 , replace1)\n",
    "            docx_replace_regex(doc,re.compile(r\"COMPANYEMAIL\"),r\"\"+ save_emails_last[i])\n",
    "            if emailed_or_not[i]==0:\n",
    "                doc.save(\"docss/\"+\"CHANGE\"+save_names[i]+'.docx')\n",
    "            else:\n",
    "                doc.save(\"docss/\"+save_names[i]+'.docx')\n",
    "        count = 0\n",
    "        for i in emailed_or_not:\n",
    "            if i == 0:\n",
    "                count+=1\n",
    "        print(count)"
   ]
  },
  {
   "cell_type": "code",
   "execution_count": null,
   "metadata": {},
   "outputs": [],
   "source": [
    "make_drafts('groupvals.csv')"
   ]
  },
  {
   "cell_type": "code",
   "execution_count": null,
   "metadata": {},
   "outputs": [],
   "source": []
  },
  {
   "cell_type": "code",
   "execution_count": null,
   "metadata": {},
   "outputs": [],
   "source": []
  }
 ],
 "metadata": {
  "kernelspec": {
   "display_name": "Python 3",
   "language": "python",
   "name": "python3"
  },
  "language_info": {
   "codemirror_mode": {
    "name": "ipython",
    "version": 3
   },
   "file_extension": ".py",
   "mimetype": "text/x-python",
   "name": "python",
   "nbconvert_exporter": "python",
   "pygments_lexer": "ipython3",
   "version": "3.6.5rc1"
  }
 },
 "nbformat": 4,
 "nbformat_minor": 2
}
